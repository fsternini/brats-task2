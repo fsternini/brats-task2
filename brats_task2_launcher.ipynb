{
  "nbformat": 4,
  "nbformat_minor": 0,
  "metadata": {
    "colab": {
      "provenance": [],
      "authorship_tag": "ABX9TyN6I9+KS7jBTzNJbcgIMedU",
      "include_colab_link": true
    },
    "kernelspec": {
      "name": "python3",
      "display_name": "Python 3"
    },
    "language_info": {
      "name": "python"
    }
  },
  "cells": [
    {
      "cell_type": "markdown",
      "metadata": {
        "id": "view-in-github",
        "colab_type": "text"
      },
      "source": [
        "<a href=\"https://colab.research.google.com/github/fsternini/brats-task2/blob/development/brats_task2_launcher.ipynb\" target=\"_parent\"><img src=\"https://colab.research.google.com/assets/colab-badge.svg\" alt=\"Open In Colab\"/></a>"
      ]
    },
    {
      "cell_type": "code",
      "execution_count": 1,
      "metadata": {
        "colab": {
          "base_uri": "https://localhost:8080/"
        },
        "id": "AVYOXHlqBOmw",
        "outputId": "0084cd01-6aa9-4bb1-8eb9-52216ff10fe1"
      },
      "outputs": [
        {
          "output_type": "stream",
          "name": "stdout",
          "text": [
            "/usr/local/bin/python\n",
            "Python 3.10.12\n"
          ]
        }
      ],
      "source": [
        "# First, verification of Python version is completed\n",
        "!which python # should return /usr/local/bin/python\n",
        "!python --version"
      ]
    },
    {
      "cell_type": "code",
      "source": [
        "# Google Drive is mounted, to reach all relevant data\n",
        "from google.colab import drive\n",
        "drive.mount('/content/drive')"
      ],
      "metadata": {
        "colab": {
          "base_uri": "https://localhost:8080/"
        },
        "id": "4o1kyvCnGF3M",
        "outputId": "27fef47c-3e2d-4c1a-c021-40aa211c5cdd"
      },
      "execution_count": 2,
      "outputs": [
        {
          "output_type": "stream",
          "name": "stdout",
          "text": [
            "Drive already mounted at /content/drive; to attempt to forcibly remount, call drive.mount(\"/content/drive\", force_remount=True).\n"
          ]
        }
      ]
    },
    {
      "cell_type": "code",
      "source": [
        "# Change the working directory reach the local repo\n",
        "\n",
        "%cd /content/drive/MyDrive/Data Science/Github/brats-task2"
      ],
      "metadata": {
        "colab": {
          "base_uri": "https://localhost:8080/"
        },
        "id": "99bY2_NmJbPf",
        "outputId": "5e812afe-6ff1-4220-fc39-cbf0f3b5d57e"
      },
      "execution_count": 3,
      "outputs": [
        {
          "output_type": "stream",
          "name": "stdout",
          "text": [
            "/content/drive/MyDrive/Data Science/Github/brats-task2\n"
          ]
        }
      ]
    },
    {
      "cell_type": "markdown",
      "source": [
        "# Nuova sezione"
      ],
      "metadata": {
        "id": "K4HP-zek687C"
      }
    },
    {
      "cell_type": "code",
      "source": [
        "#!git clone https://github.com/fsternini/brats-task2.git"
      ],
      "metadata": {
        "id": "s8wxR-X_Kgn6",
        "outputId": "83361501-3c69-419b-871e-9539a88274da",
        "colab": {
          "base_uri": "https://localhost:8080/"
        }
      },
      "execution_count": 4,
      "outputs": [
        {
          "output_type": "stream",
          "name": "stdout",
          "text": [
            "Cloning into 'brats-task2'...\n",
            "remote: Enumerating objects: 60, done.\u001b[K\n",
            "remote: Counting objects: 100% (60/60), done.\u001b[K\n",
            "remote: Compressing objects: 100% (42/42), done.\u001b[K\n",
            "remote: Total 60 (delta 20), reused 45 (delta 12), pack-reused 0\u001b[K\n",
            "Receiving objects: 100% (60/60), 12.37 KiB | 6.19 MiB/s, done.\n",
            "Resolving deltas: 100% (20/20), done.\n"
          ]
        }
      ]
    },
    {
      "cell_type": "code",
      "source": [
        "# Switch to the most updated branch\n",
        "# Update the branch to the relevant one\n",
        "!git switch development"
      ],
      "metadata": {
        "colab": {
          "base_uri": "https://localhost:8080/"
        },
        "id": "A69_jfRLXZ3w",
        "outputId": "7842450d-8315-40a2-f33d-3f107f02fd14"
      },
      "execution_count": 4,
      "outputs": [
        {
          "output_type": "stream",
          "name": "stdout",
          "text": [
            "Already on 'development'\n",
            "Your branch is up to date with 'origin/development'.\n"
          ]
        }
      ]
    },
    {
      "cell_type": "code",
      "source": [
        "# Collect the most updated version of the repo\n",
        "!git pull"
      ],
      "metadata": {
        "colab": {
          "base_uri": "https://localhost:8080/"
        },
        "id": "vF8YJa1IKnJ3",
        "outputId": "46de0816-f040-4c12-e006-f49010df3189"
      },
      "execution_count": 5,
      "outputs": [
        {
          "output_type": "stream",
          "name": "stdout",
          "text": [
            "Already up to date.\n"
          ]
        }
      ]
    },
    {
      "cell_type": "code",
      "source": [
        "# Install all requirements for the code\n",
        "!pip install -r requirements.txt"
      ],
      "metadata": {
        "colab": {
          "base_uri": "https://localhost:8080/"
        },
        "id": "ZSWRN5oNPu2H",
        "outputId": "3cfba7b2-490d-4638-f12c-f03d92ec787b"
      },
      "execution_count": 6,
      "outputs": [
        {
          "output_type": "stream",
          "name": "stdout",
          "text": [
            "Requirement already satisfied: dicom in /usr/local/lib/python3.10/dist-packages (from -r requirements.txt (line 1)) (0.9.9.post1)\n"
          ]
        }
      ]
    },
    {
      "cell_type": "code",
      "source": [
        "import sys\n",
        "sys.path.append('/content/drive/MyDrive/Data Science/Github/brats-task2/code')\n",
        "import common.common"
      ],
      "metadata": {
        "id": "r3AJyAp6cZkF"
      },
      "execution_count": 7,
      "outputs": []
    },
    {
      "cell_type": "code",
      "source": [
        "from common.common import DatasetCreator"
      ],
      "metadata": {
        "id": "gNFkx230o_y6"
      },
      "execution_count": null,
      "outputs": []
    },
    {
      "cell_type": "code",
      "source": [
        "dataset_creator = DatasetCreator('/content/drive/MyDrive/Data Science/rsna-miccai-brain-tumor-radiogenomic-classification/dataset')"
      ],
      "metadata": {
        "id": "0GGzv80RpG3a"
      },
      "execution_count": null,
      "outputs": []
    },
    {
      "cell_type": "code",
      "source": [
        "from common.common import Dataset\n",
        "ds = Dataset('/content/drive/MyDrive/Data Science/rsna-miccai-brain-tumor-radiogenomic-classification/datasetdataset_structure.json')"
      ],
      "metadata": {
        "id": "q2hyVMadpXv6"
      },
      "execution_count": 8,
      "outputs": []
    },
    {
      "cell_type": "code",
      "source": [],
      "metadata": {
        "id": "ae7qnfcL7uVu"
      },
      "execution_count": 12,
      "outputs": []
    },
    {
      "cell_type": "code",
      "source": [],
      "metadata": {
        "id": "o3o_2UmO8bOE",
        "outputId": "eee6f4f5-4db7-40cf-af32-d9eee2ef0d66",
        "colab": {
          "base_uri": "https://localhost:8080/"
        }
      },
      "execution_count": 13,
      "outputs": [
        {
          "output_type": "stream",
          "name": "stdout",
          "text": [
            "None\n"
          ]
        }
      ]
    },
    {
      "cell_type": "code",
      "source": [],
      "metadata": {
        "id": "z1vy8tSq9hB7"
      },
      "execution_count": null,
      "outputs": []
    }
  ]
}