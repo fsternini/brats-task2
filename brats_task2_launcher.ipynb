{
  "nbformat": 4,
  "nbformat_minor": 0,
  "metadata": {
    "colab": {
      "provenance": [],
      "authorship_tag": "ABX9TyMQ2k04j3W7Q04JL6zd1HY/",
      "include_colab_link": true
    },
    "kernelspec": {
      "name": "python3",
      "display_name": "Python 3"
    },
    "language_info": {
      "name": "python"
    }
  },
  "cells": [
    {
      "cell_type": "markdown",
      "metadata": {
        "id": "view-in-github",
        "colab_type": "text"
      },
      "source": [
        "<a href=\"https://colab.research.google.com/github/fsternini/brats-task2/blob/development/brats_task2_launcher.ipynb\" target=\"_parent\"><img src=\"https://colab.research.google.com/assets/colab-badge.svg\" alt=\"Open In Colab\"/></a>"
      ]
    },
    {
      "cell_type": "code",
      "execution_count": 1,
      "metadata": {
        "colab": {
          "base_uri": "https://localhost:8080/"
        },
        "id": "AVYOXHlqBOmw",
        "outputId": "903d0746-2faa-45f0-c8cd-0924d26f0411"
      },
      "outputs": [
        {
          "output_type": "stream",
          "name": "stdout",
          "text": [
            "/usr/local/bin/python\n",
            "Python 3.10.6\n"
          ]
        }
      ],
      "source": [
        "# First, verification of Python version is completed\n",
        "!which python # should return /usr/local/bin/python\n",
        "!python --version"
      ]
    },
    {
      "cell_type": "code",
      "source": [
        "# Google Drive is mounted, to reach all relevant data\n",
        "from google.colab import drive\n",
        "drive.mount('/content/drive')"
      ],
      "metadata": {
        "colab": {
          "base_uri": "https://localhost:8080/"
        },
        "id": "4o1kyvCnGF3M",
        "outputId": "b276bcee-866a-442f-e10e-4ecd5b578588"
      },
      "execution_count": 2,
      "outputs": [
        {
          "output_type": "stream",
          "name": "stdout",
          "text": [
            "Mounted at /content/drive\n"
          ]
        }
      ]
    },
    {
      "cell_type": "code",
      "source": [
        "# Change the working directory reach the local repo\n",
        "\n",
        "%cd /content/drive/MyDrive/Data Science/Github/brats-task2"
      ],
      "metadata": {
        "colab": {
          "base_uri": "https://localhost:8080/"
        },
        "id": "99bY2_NmJbPf",
        "outputId": "e3598ed9-abad-4aa6-f7e8-4000bd406d26"
      },
      "execution_count": 3,
      "outputs": [
        {
          "output_type": "stream",
          "name": "stdout",
          "text": [
            "/content/drive/MyDrive/Data Science/Github/brats-task2\n"
          ]
        }
      ]
    },
    {
      "cell_type": "code",
      "source": [
        "#!git clone https://github.com/fsternini/brats-task2.git"
      ],
      "metadata": {
        "id": "s8wxR-X_Kgn6"
      },
      "execution_count": 4,
      "outputs": []
    },
    {
      "cell_type": "code",
      "source": [
        "# Switch to the most updated branch\n",
        "# Update the branch to the relevant one\n",
        "!git switch development"
      ],
      "metadata": {
        "colab": {
          "base_uri": "https://localhost:8080/"
        },
        "id": "A69_jfRLXZ3w",
        "outputId": "6c959963-93c6-412f-dba0-6e4105360ecf"
      },
      "execution_count": 8,
      "outputs": [
        {
          "output_type": "stream",
          "name": "stdout",
          "text": [
            "Already on 'development'\n",
            "Your branch is up to date with 'origin/development'.\n"
          ]
        }
      ]
    },
    {
      "cell_type": "code",
      "source": [
        "# Collect the most updated version of the repo\n",
        "!git pull"
      ],
      "metadata": {
        "colab": {
          "base_uri": "https://localhost:8080/"
        },
        "id": "vF8YJa1IKnJ3",
        "outputId": "e55e86d2-76da-4d13-fa43-7a0e278501c0"
      },
      "execution_count": 6,
      "outputs": [
        {
          "output_type": "stream",
          "name": "stdout",
          "text": [
            "Already up to date.\n"
          ]
        }
      ]
    },
    {
      "cell_type": "code",
      "source": [
        "# Install all requirements for the code\n",
        "!pip install -r requirements.txt"
      ],
      "metadata": {
        "colab": {
          "base_uri": "https://localhost:8080/"
        },
        "id": "ZSWRN5oNPu2H",
        "outputId": "4f452dd9-9ab0-471f-ecb7-70502de9bc3c"
      },
      "execution_count": 7,
      "outputs": [
        {
          "output_type": "stream",
          "name": "stdout",
          "text": [
            "Collecting dicom (from -r requirements.txt (line 1))\n",
            "  Downloading dicom-0.9.9.post1-py3-none-any.whl (766 kB)\n",
            "\u001b[2K     \u001b[90m━━━━━━━━━━━━━━━━━━━━━━━━━━━━━━━━━━━━━━━\u001b[0m \u001b[32m766.3/766.3 kB\u001b[0m \u001b[31m8.6 MB/s\u001b[0m eta \u001b[36m0:00:00\u001b[0m\n",
            "\u001b[?25hInstalling collected packages: dicom\n",
            "Successfully installed dicom-0.9.9.post1\n"
          ]
        }
      ]
    },
    {
      "cell_type": "code",
      "source": [
        "import sys\n",
        "sys.path.append('/content/drive/MyDrive/Data Science/Github/brats-task2/code')\n",
        "import common.common"
      ],
      "metadata": {
        "id": "r3AJyAp6cZkF"
      },
      "execution_count": null,
      "outputs": []
    },
    {
      "cell_type": "code",
      "source": [
        "from common.common import DatasetCreator"
      ],
      "metadata": {
        "id": "gNFkx230o_y6"
      },
      "execution_count": null,
      "outputs": []
    },
    {
      "cell_type": "code",
      "source": [
        "dataset_creator = DatasetCreator('/content/drive/MyDrive/Data Science/rsna-miccai-brain-tumor-radiogenomic-classification/dataset')"
      ],
      "metadata": {
        "id": "0GGzv80RpG3a"
      },
      "execution_count": null,
      "outputs": []
    },
    {
      "cell_type": "code",
      "source": [],
      "metadata": {
        "id": "q2hyVMadpXv6"
      },
      "execution_count": null,
      "outputs": []
    }
  ]
}